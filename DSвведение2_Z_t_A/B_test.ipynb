{
  "nbformat": 4,
  "nbformat_minor": 0,
  "metadata": {
    "colab": {
      "provenance": [],
      "authorship_tag": "ABX9TyPimiusHNtxxOUuFWnOrGV3",
      "include_colab_link": true
    },
    "kernelspec": {
      "name": "python3",
      "display_name": "Python 3"
    },
    "language_info": {
      "name": "python"
    }
  },
  "cells": [
    {
      "cell_type": "markdown",
      "metadata": {
        "id": "view-in-github",
        "colab_type": "text"
      },
      "source": [
        "<a href=\"https://colab.research.google.com/github/Tyik2-return/932201..Nikolaev.Artem.lab2/blob/main/DS%D0%B2%D0%B2%D0%B5%D0%B4%D0%B5%D0%BD%D0%B8%D0%B52_Z_t_A/B_test.ipynb\" target=\"_parent\"><img src=\"https://colab.research.google.com/assets/colab-badge.svg\" alt=\"Open In Colab\"/></a>"
      ]
    },
    {
      "cell_type": "markdown",
      "source": [],
      "metadata": {
        "id": "QecRkE8kaIfD"
      }
    },
    {
      "cell_type": "code",
      "execution_count": null,
      "metadata": {
        "id": "f9QDWL2OAtjM"
      },
      "outputs": [],
      "source": [
        "import numpy as np\n",
        "from scipy import stats as sts\n",
        "\n",
        "np.random.seed(0)\n",
        "mu = 30\n",
        "sigma = 10\n",
        "norm_rv = sts.norm(loc=mu, scale=sigma)\n",
        "sample = norm_rv.rvs(size=500)"
      ]
    },
    {
      "cell_type": "code",
      "source": [
        "round(np.mean(sample), 3) # z test # среднее"
      ],
      "metadata": {
        "colab": {
          "base_uri": "https://localhost:8080/"
        },
        "id": "KqJMzOvVCKRQ",
        "outputId": "49e8152e-a176-4e8b-8a95-18ef8dcff5be"
      },
      "execution_count": null,
      "outputs": [
        {
          "output_type": "execute_result",
          "data": {
            "text/plain": [
              "29.746"
            ]
          },
          "metadata": {},
          "execution_count": 4
        }
      ]
    },
    {
      "cell_type": "code",
      "source": [
        "# Рассчитываем стандартную ошибку\n",
        "SE = sigma / np.sqrt(len(sample))\n",
        "\n",
        "# Округляем до трех знаков после запятой\n",
        "SE = round(SE, 3)\n",
        "\n",
        "print(f\"Стандартная ошибка: {SE}\")"
      ],
      "metadata": {
        "colab": {
          "base_uri": "https://localhost:8080/"
        },
        "id": "LICWSllCCSvR",
        "outputId": "dd4d19dd-6963-4110-ca26-031293a90609"
      },
      "execution_count": null,
      "outputs": [
        {
          "output_type": "stream",
          "name": "stdout",
          "text": [
            "Стандартная ошибка: 0.447\n"
          ]
        }
      ]
    },
    {
      "cell_type": "code",
      "source": [
        "(np.std(sample,ddof=1)/(500**0.5)).round(3) #- ответ верный 0.447 ddof=1 - для выборки ddof2=0 для всей популяции"
      ],
      "metadata": {
        "colab": {
          "base_uri": "https://localhost:8080/"
        },
        "id": "i8Ec_7qFJsau",
        "outputId": "7ba5014a-6e88-48fd-c17d-03a5368dc275"
      },
      "execution_count": null,
      "outputs": [
        {
          "output_type": "execute_result",
          "data": {
            "text/plain": [
              "0.447"
            ]
          },
          "metadata": {},
          "execution_count": 21
        }
      ]
    },
    {
      "cell_type": "code",
      "source": [
        "round((np.mean(sample)-31)/SE, 2)"
      ],
      "metadata": {
        "colab": {
          "base_uri": "https://localhost:8080/"
        },
        "id": "boPx9sZYKrdW",
        "outputId": "86338111-5dea-4192-85b2-7d968c0863c2"
      },
      "execution_count": null,
      "outputs": [
        {
          "output_type": "execute_result",
          "data": {
            "text/plain": [
              "-2.8"
            ]
          },
          "metadata": {},
          "execution_count": 24
        }
      ]
    },
    {
      "cell_type": "code",
      "source": [
        "from scipy import stats as sts\n",
        "\n",
        "mu = 0 #среднее\n",
        "std = 1 #стандартное отклонение\n",
        "norm_rv = sts.norm(0, 1) #нормальное стандартное распределение\n",
        "norm_rv.cdf(2.58)-norm_rv.cdf(-2.58)\n"
      ],
      "metadata": {
        "colab": {
          "base_uri": "https://localhost:8080/"
        },
        "id": "_fGiEP-NLGB9",
        "outputId": "a5b06398-e116-44f8-daa7-248245c49410"
      },
      "execution_count": null,
      "outputs": [
        {
          "output_type": "execute_result",
          "data": {
            "text/plain": [
              "0.9901199684844586"
            ]
          },
          "metadata": {},
          "execution_count": 25
        }
      ]
    },
    {
      "cell_type": "code",
      "source": [
        "np.random.seed(0)#T test\n",
        "mu = 30\n",
        "sigma = 10\n",
        "norm_rv = sts.norm(loc=mu, scale=sigma)\n",
        "sample = norm_rv.rvs(size=500)\n",
        "ESE = np.std(sample,ddof=1)/len(sample)**(1/2)\n",
        "print(ESE)"
      ],
      "metadata": {
        "colab": {
          "base_uri": "https://localhost:8080/"
        },
        "id": "rCktJA8QWOfr",
        "outputId": "7406fd79-1a2b-4638-f084-93859041626d"
      },
      "execution_count": null,
      "outputs": [
        {
          "output_type": "stream",
          "name": "stdout",
          "text": [
            "0.44683634125130056\n"
          ]
        }
      ]
    },
    {
      "cell_type": "code",
      "source": [
        "np.std(sample)"
      ],
      "metadata": {
        "colab": {
          "base_uri": "https://localhost:8080/"
        },
        "id": "AsDHRe6YXH8v",
        "outputId": "be8c421a-cebd-4555-8354-014710224397"
      },
      "execution_count": null,
      "outputs": [
        {
          "output_type": "execute_result",
          "data": {
            "text/plain": [
              "9.981567773429258"
            ]
          },
          "metadata": {},
          "execution_count": 29
        }
      ]
    },
    {
      "cell_type": "code",
      "source": [
        "(np.mean(sample)-31)/ESE"
      ],
      "metadata": {
        "colab": {
          "base_uri": "https://localhost:8080/"
        },
        "id": "xuR5Vm3XXcN4",
        "outputId": "03950004-f526-424f-d42c-39db425281ca"
      },
      "execution_count": null,
      "outputs": [
        {
          "output_type": "execute_result",
          "data": {
            "text/plain": [
              "-2.8053769973453067"
            ]
          },
          "metadata": {},
          "execution_count": 30
        }
      ]
    },
    {
      "cell_type": "code",
      "source": [
        "t_statistic, p_value = sts.ttest_1samp(sample, 31)"
      ],
      "metadata": {
        "id": "X13JwKdDYVkZ"
      },
      "execution_count": null,
      "outputs": []
    },
    {
      "cell_type": "code",
      "source": [
        "print(p_value)"
      ],
      "metadata": {
        "colab": {
          "base_uri": "https://localhost:8080/"
        },
        "id": "AUepYINaYokg",
        "outputId": "4ad14bd0-4b38-4bff-c2dc-d12d18bf7905"
      },
      "execution_count": null,
      "outputs": [
        {
          "output_type": "stream",
          "name": "stdout",
          "text": [
            "0.005221988377647773\n"
          ]
        }
      ]
    },
    {
      "cell_type": "code",
      "source": [
        "np.random.seed(0)\n",
        "test = [np.random.randint(30,140) for i in range(200)]\n",
        "control = [np.random.randint(30,140) for i in range(200)]\n",
        "sts.ttest_ind(test, control)\n",
        "t_stat,p_value = sts.ttest_ind(test, control)\n",
        "print(t_stat,round(p_value, 3))"
      ],
      "metadata": {
        "id": "m27WNHj1YwuN",
        "colab": {
          "base_uri": "https://localhost:8080/"
        },
        "outputId": "965b7145-496a-4a6e-b998-adf3665c0128"
      },
      "execution_count": null,
      "outputs": [
        {
          "output_type": "stream",
          "name": "stdout",
          "text": [
            "-0.21341529910224746 0.831\n"
          ]
        }
      ]
    },
    {
      "cell_type": "code",
      "source": [
        "from statsmodels.stats.proportion import proportions_ztest\n",
        "\n",
        "p_test = 0.14  #Доля вернувшихся из тех, кто получил смс\n",
        "p_control = 0.10  #Доля вернувшихся из тех, кто не получил смс\n",
        "\n",
        "# Сгенерируем данные\n",
        "np.random.seed(2)\n",
        "test_group = np.random.choice([0, 1], size=1000, p=[1-p_test, p_test])\n",
        "control_group = np.random.choice([0, 1], size=1000, p=[1-p_control, p_control])"
      ],
      "metadata": {
        "id": "y9CVzsIGrQ6R"
      },
      "execution_count": null,
      "outputs": []
    },
    {
      "cell_type": "code",
      "source": [
        "z_stat, p_value = proportions_ztest([np.sum(test_group), np.sum(control_group)], [len(test_group), len(control_group)])"
      ],
      "metadata": {
        "id": "r7cl6hHt2KYJ"
      },
      "execution_count": null,
      "outputs": []
    },
    {
      "cell_type": "code",
      "source": [
        "print(p_value)"
      ],
      "metadata": {
        "colab": {
          "base_uri": "https://localhost:8080/"
        },
        "id": "IejbPrzD2lEu",
        "outputId": "c919e143-25f0-4312-943c-4c50a4f3358b"
      },
      "execution_count": null,
      "outputs": [
        {
          "output_type": "stream",
          "name": "stdout",
          "text": [
            "0.028231329563203986\n"
          ]
        }
      ]
    },
    {
      "cell_type": "code",
      "source": [
        "from scipy import stats as sts\n",
        "\n",
        "a = 0.05 #уровень значимости альфа, ошибка первого рода\n",
        "b = 0.2 #ошибка второго рода\n",
        "p_1 = 0.10 #конверсия или среднее\n",
        "p_2 = 0.14 #конверсия с учетом MDE\n",
        "var=p_1*(1-p_1)\n",
        "var_with_mde=(1-p_2)*p_2\n",
        "z_a=sts.norm.ppf(a/2)\n",
        "z_b=sts.norm.ppf(b)\n",
        "(z_a*(2*var)**0.5 + z_b*(var+var_with_mde)**0.5)**2/(p_2-p_1)**2"
      ],
      "metadata": {
        "colab": {
          "base_uri": "https://localhost:8080/"
        },
        "id": "KeUL3KOO7yfR",
        "outputId": "4c521c00-f381-48ae-dab5-c04102dc2716"
      },
      "execution_count": null,
      "outputs": [
        {
          "output_type": "execute_result",
          "data": {
            "text/plain": [
              "926.5764538633317"
            ]
          },
          "metadata": {},
          "execution_count": 42
        }
      ]
    },
    {
      "cell_type": "code",
      "source": [
        "a = 0.05 #уровень значимости альфа, ошибка первого рода\n",
        "b = 0.2 #ошибка второго рода\n",
        "var=200**2\n",
        "mde=50\n",
        "z_a=sts.norm.ppf(a/2)\n",
        "z_b=sts.norm.ppf(b)\n",
        "n=(var*2)*(z_a+z_b)**2/mde**2\n",
        "print(n)\n"
      ],
      "metadata": {
        "colab": {
          "base_uri": "https://localhost:8080/"
        },
        "id": "vLBzLxl8-lUI",
        "outputId": "1cf87664-d6d6-4257-9fcf-bc9f1dda0a66"
      },
      "execution_count": null,
      "outputs": [
        {
          "output_type": "stream",
          "name": "stdout",
          "text": [
            "251.1641514991709\n"
          ]
        }
      ]
    },
    {
      "cell_type": "code",
      "source": [
        "from scipy import stats as sts\n",
        "\n",
        "a = 0.05  # уровень значимости альфа, ошибка первого рода\n",
        "b = 0.2  # ошибка второго рода\n",
        "p_1 = 0.04  # конверсия или среднее\n",
        "p_2 = 0.06  # конверсия с учетом MDE\n",
        "\n",
        "# Рассчитываем дисперсии\n",
        "var = p_1 * (1 - p_1)\n",
        "var_with_mde = (1 - p_2) * p_2\n",
        "\n",
        "# Рассчитываем z-значения для альфа/2 и бета\n",
        "z_a = sts.norm.ppf(a / 2)\n",
        "z_b = sts.norm.ppf(b)\n",
        "\n",
        "# Рассчитываем размер одной выборки\n",
        "sample_size = (z_a * (2 * var) ** 0.5 + z_b * (var + var_with_mde) ** 0.5) ** 2 / (p_2 - p_1) ** 2\n",
        "\n",
        "# Округляем результат\n",
        "sample_size = round(sample_size)\n",
        "\n",
        "print(f\"Размер одной выборки для А/Б теста: {sample_size}\")"
      ],
      "metadata": {
        "colab": {
          "base_uri": "https://localhost:8080/"
        },
        "id": "9sv50rTX_cxX",
        "outputId": "65d9c389-a838-452a-ccf3-9199218de9b1"
      },
      "execution_count": null,
      "outputs": [
        {
          "output_type": "stream",
          "name": "stdout",
          "text": [
            "Размер одной выборки для А/Б теста: 1609\n"
          ]
        }
      ]
    },
    {
      "cell_type": "code",
      "source": [
        "import numpy as np\n",
        "from statsmodels.stats.proportion import proportions_ztest\n",
        "\n",
        "p_test = 0.04  # Доля вернувшихся из тех, кто получил смс\n",
        "p_control = 0.06  # Доля вернувшихся из тех, кто не получил смс\n",
        "\n",
        "# Сгенерируем данные\n",
        "np.random.seed(2)\n",
        "test_group = np.random.choice([0, 1], size=2000, p=[1-p_test, p_test])\n",
        "control_group = np.random.choice([0, 1], size=2000, p=[1-p_control, p_control])\n",
        "\n",
        "# Рассчитываем p-value\n",
        "z_stat, p_value = proportions_ztest([np.sum(test_group), np.sum(control_group)], [len(test_group), len(control_group)])\n",
        "\n",
        "# Округляем p-value до 3 знаков после запятой\n",
        "p_value = round(p_value, 3)\n",
        "\n",
        "print(p_value)"
      ],
      "metadata": {
        "id": "6WRIQzO-A9Yl",
        "outputId": "68fee665-e021-48b2-d673-d77b1219607e",
        "colab": {
          "base_uri": "https://localhost:8080/"
        }
      },
      "execution_count": null,
      "outputs": [
        {
          "output_type": "stream",
          "name": "stdout",
          "text": [
            "0.007\n"
          ]
        }
      ]
    }
  ]
}